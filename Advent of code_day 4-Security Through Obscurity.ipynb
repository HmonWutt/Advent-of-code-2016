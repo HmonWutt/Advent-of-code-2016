{
 "cells": [
  {
   "cell_type": "code",
   "execution_count": 2,
   "metadata": {},
   "outputs": [
    {
     "name": "stdout",
     "output_type": "stream",
     "text": [
      "env: AOC_SESSION='_ga=GA1.2.885869046.1667930955; _gid=GA1.2.872874287.1667930955; session=53616c7465645f5f343f63e6b3223b95004945da701e63c26f7eb7290f64695e5745d3c395756f6d238c660f95472688b176e81dc38b3f85490b71f382beb5af'\n"
     ]
    }
   ],
   "source": [
    "%env AOC_SESSION = '_ga=GA1.2.885869046.1667930955; _gid=GA1.2.872874287.1667930955; session=53616c7465645f5f343f63e6b3223b95004945da701e63c26f7eb7290f64695e5745d3c395756f6d238c660f95472688b176e81dc38b3f85490b71f382beb5af'\n",
    "from aocd import get_data\n",
    "data = get_data(day=4, year=2016)\n",
    "puzzlelist = data.split()"
   ]
  },
  {
   "cell_type": "code",
   "execution_count": 6,
   "metadata": {},
   "outputs": [
    {
     "name": "stdout",
     "output_type": "stream",
     "text": [
      "Part 1 answer: 409147\n"
     ]
    }
   ],
   "source": [
    "\"\"\" Part one \"\"\"\n",
    "total =0\n",
    "from collections import Counter\n",
    "for i in puzzlelist:\n",
    "    string = i\n",
    "    counter = Counter(string[:-10])\n",
    "    lst = sorted(filter(lambda t: t[0] != '-' , counter.most_common()), key=lambda t: (-t[1], t[0]))\n",
    "    to_check = list(x for(x,y) in lst)\n",
    "    checksum = list(x for x in string[-6:-1 ])\n",
    "    if checksum == to_check[:5]:\n",
    "        total += int(string[-10:-7])\n",
    "        #print('True', total)\n",
    "    else:\n",
    "        total = total\n",
    "        #print('False' , total)\n",
    "        \n",
    "print(f'Part 1 answer: {total}')\n"
   ]
  },
  {
   "cell_type": "code",
   "execution_count": 5,
   "metadata": {},
   "outputs": [
    {
     "name": "stdout",
     "output_type": "stream",
     "text": [
      "Part two answer: 991\n"
     ]
    }
   ],
   "source": [
    "\"\"\"Part 2 \"\"\"\n",
    "import re\n",
    "#print(len(letters))\n",
    "#print(letters.index('v')-letters.index('q'))\n",
    "def decoder (codedmessage):\n",
    "    letters='abcdefghijklmnopqrstuvwxyz'\n",
    "    \n",
    "    decoded = []\n",
    "    room_id = 0\n",
    "    shift = int(codedmessage[-10:-7])%26\n",
    "    for i in codedmessage[:-10]:\n",
    "        if i == '-':\n",
    "            new_letter = ' '\n",
    "            decoded.append(new_letter)\n",
    "        else:\n",
    "            letter = i\n",
    "            index = letters.index(letter)\n",
    "            new_letter = letters[(index+shift)%26]\n",
    "            #print(letter, shift, index, new_letter)\n",
    "            decoded.append(new_letter)\n",
    "    \n",
    "    decoded_message = ''.join(decoded)\n",
    "    \n",
    "    return decoded_message\n",
    "decoded_message_list = []            \n",
    "for i in puzzlelist:\n",
    "    message = decoder(i)\n",
    "    if re.search(\"north?pole\",message): #all((letter in message for letter in 'northpole')):\n",
    "        room_id = i[-10:-7]\n",
    "        print(f\"Part two answer: {room_id}\")\n",
    "        \n",
    "    \n"
   ]
  }
 ],
 "metadata": {
  "kernelspec": {
   "display_name": "Python 3.9.6 64-bit",
   "language": "python",
   "name": "python3"
  },
  "language_info": {
   "codemirror_mode": {
    "name": "ipython",
    "version": 3
   },
   "file_extension": ".py",
   "mimetype": "text/x-python",
   "name": "python",
   "nbconvert_exporter": "python",
   "pygments_lexer": "ipython3",
   "version": "3.9.6"
  },
  "orig_nbformat": 4,
  "vscode": {
   "interpreter": {
    "hash": "aee8b7b246df8f9039afb4144a1f6fd8d2ca17a180786b69acc140d282b71a49"
   }
  }
 },
 "nbformat": 4,
 "nbformat_minor": 2
}
