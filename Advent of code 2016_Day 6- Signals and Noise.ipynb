{
 "cells": [
  {
   "cell_type": "code",
   "execution_count": 4,
   "metadata": {},
   "outputs": [
    {
     "name": "stdout",
     "output_type": "stream",
     "text": [
      "env: AOC_SESSION=53616c7465645f5f49059f4a5c4159c843c84bbe8c7955cbf891ebc16bea3d3d905d07da111068b3092e19a3aa92bb829951cbc4263fdb4cecd12e120e064a3f\n"
     ]
    }
   ],
   "source": [
    "%env AOC_SESSION =53616c7465645f5f49059f4a5c4159c843c84bbe8c7955cbf891ebc16bea3d3d905d07da111068b3092e19a3aa92bb829951cbc4263fdb4cecd12e120e064a3f"
   ]
  },
  {
   "cell_type": "code",
   "execution_count": 61,
   "metadata": {},
   "outputs": [
    {
     "name": "stdout",
     "output_type": "stream",
     "text": [
      "Part one Answer: umcvzsmw\n"
     ]
    }
   ],
   "source": [
    "from aocd import get_data\n",
    "from collections import Counter\n",
    "data = (get_data(day=6, year=2016)).split()\n",
    "tmp = []\n",
    "for j in range(len(data[0])):\n",
    "    tmp.append(Counter([i[j] for i in data]).most_common()[0])\n",
    "print(f\"Part one Answer: {''.join([i[0] for i in tmp])}\")"
   ]
  }
 ],
 "metadata": {
  "kernelspec": {
   "display_name": "Python 3.9.6 64-bit",
   "language": "python",
   "name": "python3"
  },
  "language_info": {
   "codemirror_mode": {
    "name": "ipython",
    "version": 3
   },
   "file_extension": ".py",
   "mimetype": "text/x-python",
   "name": "python",
   "nbconvert_exporter": "python",
   "pygments_lexer": "ipython3",
   "version": "3.9.6"
  },
  "orig_nbformat": 4,
  "vscode": {
   "interpreter": {
    "hash": "aee8b7b246df8f9039afb4144a1f6fd8d2ca17a180786b69acc140d282b71a49"
   }
  }
 },
 "nbformat": 4,
 "nbformat_minor": 2
}
