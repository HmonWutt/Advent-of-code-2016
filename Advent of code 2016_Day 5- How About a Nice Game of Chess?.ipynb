{
 "cells": [
  {
   "cell_type": "code",
   "execution_count": null,
   "metadata": {},
   "outputs": [],
   "source": [
    "\"\"\"part one\"\"\"\n",
    "\n",
    "import hashlib\n",
    "string = 'ojvtpuvg'\n",
    "i= 0\n",
    "password = []\n",
    "hashed_list = []\n",
    "#print(''.join(['w','2','3','4']))\n",
    "\n",
    "while True:\n",
    "    i +=1\n",
    "    encoded = (string+str(i)).encode()\n",
    "    hashed= hashlib.md5(encoded).hexdigest()\n",
    "    if hashed[:5] == '00000':\n",
    "        print(hashed)\n",
    "        password.append(hashed[5])\n",
    "        hashed_list.append(hashed)\n",
    "        if len(password) >= 8:\n",
    "            print(''.join(password))\n",
    "            print(hashed_list)\n",
    "            break"
   ]
  },
  {
   "cell_type": "code",
   "execution_count": 76,
   "metadata": {},
   "outputs": [],
   "source": [
    "\"\"\"part two\"\"\"\n",
    "\n",
    "\n",
    "import hashlib\n",
    "string = 'ojvtpuvg'\n",
    "i= -1\n",
    "password_list = {}\n",
    "\n",
    "while len(password_list) < 8:\n",
    "    i +=1\n",
    "    encoded = (string+str(i)).encode()\n",
    "    hashed= hashlib.md5(encoded).hexdigest()\n",
    "    if hashed[:5] == '00000' and hashed[5].isdigit() and (0 <= int(hashed[5]) <8) and hashed[5] not in password_list:\n",
    "        password_list[hashed[5]] = hashed[6]\n",
    "\n",
    "\n"
   ]
  },
  {
   "cell_type": "code",
   "execution_count": 142,
   "metadata": {},
   "outputs": [
    {
     "name": "stdout",
     "output_type": "stream",
     "text": [
      "Password: 1050cbbd\n"
     ]
    }
   ],
   "source": [
    "#password_2= sorted(password_list.items(), key=lambda x:x[0])\n",
    "from operator import itemgetter\n",
    "tmp = sorted(password_list.items(), key=itemgetter(0))\n",
    "print(f\"Password: {''.join([j for i,j in tmp])}\")\n"
   ]
  }
 ],
 "metadata": {
  "kernelspec": {
   "display_name": "Python 3.9.6 64-bit",
   "language": "python",
   "name": "python3"
  },
  "language_info": {
   "codemirror_mode": {
    "name": "ipython",
    "version": 3
   },
   "file_extension": ".py",
   "mimetype": "text/x-python",
   "name": "python",
   "nbconvert_exporter": "python",
   "pygments_lexer": "ipython3",
   "version": "3.9.6"
  },
  "orig_nbformat": 4,
  "vscode": {
   "interpreter": {
    "hash": "aee8b7b246df8f9039afb4144a1f6fd8d2ca17a180786b69acc140d282b71a49"
   }
  }
 },
 "nbformat": 4,
 "nbformat_minor": 2
}
