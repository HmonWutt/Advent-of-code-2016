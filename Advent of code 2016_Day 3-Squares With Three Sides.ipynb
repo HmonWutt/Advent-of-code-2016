{
 "cells": [
  {
   "cell_type": "code",
   "execution_count": null,
   "metadata": {},
   "outputs": [],
   "source": [
    "%env AOC_SESSION = GA1.2.1813504866.1667121056; session=53616c7465645f5f49059f4a5c4159c843c84bbe8c7955cbf891ebc16bea3d3d905d07da111068b3092e19a3aa92bb829951cbc4263fdb4cecd12e120e064a3f; _gid=GA1.2.1655834590.1667907497\n",
    "from aocd import get_data\n",
    "data = get_data(day=3, year=2016)\n",
    "data = data.split()\n",
    "tmp = []\n",
    "for i in data:\n",
    "    i = int(i)\n",
    "    tmp.append(i)\n",
    "\n"
   ]
  },
  {
   "cell_type": "code",
   "execution_count": 58,
   "metadata": {},
   "outputs": [
    {
     "name": "stdout",
     "output_type": "stream",
     "text": [
      "part one answer: 993\n"
     ]
    }
   ],
   "source": [
    "part_one_data = list(zip(*[iter(tmp)]*3))\n",
    "count = 0\n",
    "for i,j,k in part_one_data:\n",
    "    lst = sorted([i,j,k])\n",
    "    if lst[0]+lst[1] > lst[2]:\n",
    "            count+=1\n",
    "print(f\"Part one answer: {count}\")\n",
    "\n"
   ]
  },
  {
   "cell_type": "code",
   "execution_count": 73,
   "metadata": {},
   "outputs": [
    {
     "name": "stdout",
     "output_type": "stream",
     "text": [
      "Part two answer: 1849\n"
     ]
    }
   ],
   "source": [
    "part_two_data = list(zip(*[iter(tmp)]*9))\n",
    "count_1 = 0\n",
    "count_2 = 0\n",
    "count_3 = 0\n",
    "for i in part_two_data:\n",
    "\n",
    "    lst_1 = sorted([i[0],i[3],i[6]])\n",
    "    if lst_1[0]+lst_1[1]> lst_1[2]:\n",
    "        count_1+=1\n",
    "    lst_2 = sorted([i[1],i[4],i[7]])\n",
    "    if lst_2[0]+lst_2[1]> lst_2[2]:\n",
    "        count_2+=1\n",
    "    lst_3 = sorted([i[2],i[5],i[8]])\n",
    "    if lst_3[0]+lst_3[1]> lst_3[2]:\n",
    "        count_3+=1\n",
    "print(f'Part two answer: { count_1+count_2+count_3}')"
   ]
  }
 ],
 "metadata": {
  "kernelspec": {
   "display_name": "Python 3.9.6 64-bit",
   "language": "python",
   "name": "python3"
  },
  "language_info": {
   "codemirror_mode": {
    "name": "ipython",
    "version": 3
   },
   "file_extension": ".py",
   "mimetype": "text/x-python",
   "name": "python",
   "nbconvert_exporter": "python",
   "pygments_lexer": "ipython3",
   "version": "3.9.6"
  },
  "orig_nbformat": 4,
  "vscode": {
   "interpreter": {
    "hash": "aee8b7b246df8f9039afb4144a1f6fd8d2ca17a180786b69acc140d282b71a49"
   }
  }
 },
 "nbformat": 4,
 "nbformat_minor": 2
}
